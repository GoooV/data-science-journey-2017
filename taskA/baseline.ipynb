{
 "cells": [
  {
   "cell_type": "code",
   "execution_count": 1,
   "metadata": {
    "ExecuteTime": {
     "end_time": "2017-09-10T08:36:48.417827Z",
     "start_time": "2017-09-10T08:36:47.478946Z"
    },
    "collapsed": true
   },
   "outputs": [],
   "source": [
    "import pandas as pd\n",
    "from collections import Counter\n",
    "import functools\n",
    "import tqdm\n",
    "import re\n",
    "import numpy as np\n",
    "from sklearn.ensemble import GradientBoostingClassifier"
   ]
  },
  {
   "cell_type": "code",
   "execution_count": 2,
   "metadata": {
    "ExecuteTime": {
     "end_time": "2017-09-10T08:36:50.759232Z",
     "start_time": "2017-09-10T08:36:48.419827Z"
    },
    "collapsed": true
   },
   "outputs": [],
   "source": [
    "dftrain, dftest = pd.read_csv(\"../train_task1.csv\"), pd.read_csv(\"../test_task1.csv\")"
   ]
  },
  {
   "cell_type": "code",
   "execution_count": 3,
   "metadata": {
    "ExecuteTime": {
     "end_time": "2017-09-10T08:36:50.784704Z",
     "start_time": "2017-09-10T08:36:50.761541Z"
    },
    "collapsed": true
   },
   "outputs": [],
   "source": [
    "@functools.lru_cache(maxsize=2 ** 19)\n",
    "def uniq_words(text):\n",
    "    return set(re.findall(\"\\w+\", text))\n",
    "\n",
    "def calculate_idfs(data):\n",
    "    counter_paragraph = Counter()\n",
    "    uniq_paragraphs = data['paragraph'].unique()\n",
    "    for paragraph in tqdm.tqdm(uniq_paragraphs, desc=\"calc idf\"):\n",
    "        set_words = uniq_words(paragraph)\n",
    "        counter_paragraph.update(set_words)\n",
    "        \n",
    "    num_docs = uniq_paragraphs.shape[0]\n",
    "    idfs = {}\n",
    "    for word in counter_paragraph:\n",
    "        idfs[word] = np.log(num_docs / counter_paragraph[word])\n",
    "    return idfs"
   ]
  },
  {
   "cell_type": "code",
   "execution_count": 4,
   "metadata": {
    "ExecuteTime": {
     "end_time": "2017-09-10T08:36:51.872706Z",
     "start_time": "2017-09-10T08:36:50.792155Z"
    }
   },
   "outputs": [
    {
     "name": "stderr",
     "output_type": "stream",
     "text": [
      "calc idf: 100%|██████████| 5218/5218 [00:00<00:00, 8656.74it/s]\n"
     ]
    }
   ],
   "source": [
    "idfs = calculate_idfs(dftrain)"
   ]
  },
  {
   "cell_type": "code",
   "execution_count": 5,
   "metadata": {
    "ExecuteTime": {
     "end_time": "2017-09-10T08:50:10.311380Z",
     "start_time": "2017-09-10T08:36:51.874851Z"
    }
   },
   "outputs": [
    {
     "name": "stderr",
     "output_type": "stream",
     "text": [
      "build features for train: 100%|██████████| 96612/96612 [08:00<00:00, 201.25it/s]\n",
      "build features for test: 100%|██████████| 75033/75033 [05:18<00:00, 235.69it/s]\n"
     ]
    }
   ],
   "source": [
    "for name, df in [('train', dftrain), ('test', dftest)]:\n",
    "    for index, row in tqdm.tqdm(df.iterrows(), total=df.shape[0], desc=\"build features for \" + name):\n",
    "        question = uniq_words(row.question)\n",
    "        paragraph = uniq_words(row.paragraph)\n",
    "        df.loc[index, 'len_paragraph'] = len(paragraph)\n",
    "        df.loc[index, 'len_question'] = len(question)\n",
    "        df.loc[index, 'len_intersection'] = len(paragraph & question)\n",
    "        df.loc[index, 'idf_question'] = np.sum([idfs.get(word, 0.0) for word in question])\n",
    "        df.loc[index, 'idf_paragraph'] = np.sum([idfs.get(word, 0.0) for word in paragraph])\n",
    "        df.loc[index, 'idf_intersection'] = np.sum([idfs.get(word, 0.0) for word in paragraph & question])"
   ]
  },
  {
   "cell_type": "code",
   "execution_count": 6,
   "metadata": {
    "ExecuteTime": {
     "end_time": "2017-09-10T08:50:10.356544Z",
     "start_time": "2017-09-10T08:50:10.314199Z"
    }
   },
   "outputs": [
    {
     "data": {
      "text/html": [
       "<div>\n",
       "<style>\n",
       "    .dataframe thead tr:only-child th {\n",
       "        text-align: right;\n",
       "    }\n",
       "\n",
       "    .dataframe thead th {\n",
       "        text-align: left;\n",
       "    }\n",
       "\n",
       "    .dataframe tbody tr th {\n",
       "        vertical-align: top;\n",
       "    }\n",
       "</style>\n",
       "<table border=\"1\" class=\"dataframe\">\n",
       "  <thead>\n",
       "    <tr style=\"text-align: right;\">\n",
       "      <th></th>\n",
       "      <th>paragraph_id</th>\n",
       "      <th>question_id</th>\n",
       "      <th>paragraph</th>\n",
       "      <th>question</th>\n",
       "      <th>target</th>\n",
       "      <th>len_paragraph</th>\n",
       "      <th>len_question</th>\n",
       "      <th>len_intersection</th>\n",
       "      <th>idf_question</th>\n",
       "      <th>idf_paragraph</th>\n",
       "      <th>idf_intersection</th>\n",
       "    </tr>\n",
       "  </thead>\n",
       "  <tbody>\n",
       "    <tr>\n",
       "      <th>0</th>\n",
       "      <td>5551</td>\n",
       "      <td>56724</td>\n",
       "      <td>31 августа 2016 года АО Банк Финсервис получил...</td>\n",
       "      <td>Кто подтвердил рейтинг кредитоспособности ПАО ...</td>\n",
       "      <td>0.0</td>\n",
       "      <td>65.0</td>\n",
       "      <td>17.0</td>\n",
       "      <td>3.0</td>\n",
       "      <td>83.650717</td>\n",
       "      <td>320.188531</td>\n",
       "      <td>1.446893</td>\n",
       "    </tr>\n",
       "    <tr>\n",
       "      <th>1</th>\n",
       "      <td>6678</td>\n",
       "      <td>64727</td>\n",
       "      <td>Лимфатическая система выступает как дополнение...</td>\n",
       "      <td>Какое положение между одиночным и стадным обра...</td>\n",
       "      <td>0.0</td>\n",
       "      <td>70.0</td>\n",
       "      <td>13.0</td>\n",
       "      <td>4.0</td>\n",
       "      <td>64.781264</td>\n",
       "      <td>382.531147</td>\n",
       "      <td>9.737011</td>\n",
       "    </tr>\n",
       "    <tr>\n",
       "      <th>2</th>\n",
       "      <td>5941</td>\n",
       "      <td>56747</td>\n",
       "      <td>Тиристорно-импульсная система управления (ТИСУ...</td>\n",
       "      <td>Чем не создается необходимый по величине ток?</td>\n",
       "      <td>1.0</td>\n",
       "      <td>71.0</td>\n",
       "      <td>7.0</td>\n",
       "      <td>5.0</td>\n",
       "      <td>32.478578</td>\n",
       "      <td>389.340211</td>\n",
       "      <td>20.286093</td>\n",
       "    </tr>\n",
       "    <tr>\n",
       "      <th>3</th>\n",
       "      <td>2075</td>\n",
       "      <td>50763</td>\n",
       "      <td>После начала борьбы с православием в Литовском...</td>\n",
       "      <td>В какой части города многочисленны пруды, обра...</td>\n",
       "      <td>0.0</td>\n",
       "      <td>95.0</td>\n",
       "      <td>13.0</td>\n",
       "      <td>3.0</td>\n",
       "      <td>63.039527</td>\n",
       "      <td>532.465918</td>\n",
       "      <td>1.712881</td>\n",
       "    </tr>\n",
       "    <tr>\n",
       "      <th>4</th>\n",
       "      <td>5204</td>\n",
       "      <td>53421</td>\n",
       "      <td>В 1954 году Шостакович писал: Дисциплина труда...</td>\n",
       "      <td>К какой культуре по мнению Шнитке принадлежали...</td>\n",
       "      <td>0.0</td>\n",
       "      <td>109.0</td>\n",
       "      <td>10.0</td>\n",
       "      <td>3.0</td>\n",
       "      <td>43.181146</td>\n",
       "      <td>538.020191</td>\n",
       "      <td>11.646477</td>\n",
       "    </tr>\n",
       "  </tbody>\n",
       "</table>\n",
       "</div>"
      ],
      "text/plain": [
       "   paragraph_id  question_id  \\\n",
       "0          5551        56724   \n",
       "1          6678        64727   \n",
       "2          5941        56747   \n",
       "3          2075        50763   \n",
       "4          5204        53421   \n",
       "\n",
       "                                           paragraph  \\\n",
       "0  31 августа 2016 года АО Банк Финсервис получил...   \n",
       "1  Лимфатическая система выступает как дополнение...   \n",
       "2  Тиристорно-импульсная система управления (ТИСУ...   \n",
       "3  После начала борьбы с православием в Литовском...   \n",
       "4  В 1954 году Шостакович писал: Дисциплина труда...   \n",
       "\n",
       "                                            question  target  len_paragraph  \\\n",
       "0  Кто подтвердил рейтинг кредитоспособности ПАО ...     0.0           65.0   \n",
       "1  Какое положение между одиночным и стадным обра...     0.0           70.0   \n",
       "2      Чем не создается необходимый по величине ток?     1.0           71.0   \n",
       "3  В какой части города многочисленны пруды, обра...     0.0           95.0   \n",
       "4  К какой культуре по мнению Шнитке принадлежали...     0.0          109.0   \n",
       "\n",
       "   len_question  len_intersection  idf_question  idf_paragraph  \\\n",
       "0          17.0               3.0     83.650717     320.188531   \n",
       "1          13.0               4.0     64.781264     382.531147   \n",
       "2           7.0               5.0     32.478578     389.340211   \n",
       "3          13.0               3.0     63.039527     532.465918   \n",
       "4          10.0               3.0     43.181146     538.020191   \n",
       "\n",
       "   idf_intersection  \n",
       "0          1.446893  \n",
       "1          9.737011  \n",
       "2         20.286093  \n",
       "3          1.712881  \n",
       "4         11.646477  "
      ]
     },
     "execution_count": 6,
     "metadata": {},
     "output_type": "execute_result"
    }
   ],
   "source": [
    "dftrain.head()"
   ]
  },
  {
   "cell_type": "code",
   "execution_count": 7,
   "metadata": {
    "ExecuteTime": {
     "end_time": "2017-09-10T08:50:17.865182Z",
     "start_time": "2017-09-10T08:50:10.360780Z"
    },
    "collapsed": true
   },
   "outputs": [],
   "source": [
    "columns = ['len_paragraph', 'len_question', 'len_intersection', 'idf_question', 'idf_paragraph', 'idf_intersection']\n",
    "model = GradientBoostingClassifier().fit(dftrain[columns], dftrain['target'])\n",
    "dftest['prediction'] = model.predict_proba(dftest[columns])[:, 1]"
   ]
  },
  {
   "cell_type": "code",
   "execution_count": 9,
   "metadata": {
    "ExecuteTime": {
     "end_time": "2017-09-10T08:52:35.272769Z",
     "start_time": "2017-09-10T08:52:34.886490Z"
    },
    "collapsed": true
   },
   "outputs": [],
   "source": [
    "dftest[['paragraph_id', 'question_id', 'prediction']].to_csv(\"prediction.csv\", index=False)"
   ]
  },
  {
   "cell_type": "code",
   "execution_count": null,
   "metadata": {
    "collapsed": true
   },
   "outputs": [],
   "source": []
  }
 ],
 "metadata": {
  "kernelspec": {
   "display_name": "Python 3",
   "language": "python",
   "name": "python3"
  },
  "language_info": {
   "codemirror_mode": {
    "name": "ipython",
    "version": 3
   },
   "file_extension": ".py",
   "mimetype": "text/x-python",
   "name": "python",
   "nbconvert_exporter": "python",
   "pygments_lexer": "ipython3",
   "version": "3.6.2"
  },
  "toc": {
   "toc_cell": false,
   "toc_number_sections": true,
   "toc_threshold": 6,
   "toc_window_display": false
  }
 },
 "nbformat": 4,
 "nbformat_minor": 2
}
